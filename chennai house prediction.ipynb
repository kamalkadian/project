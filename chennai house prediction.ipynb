{
 "cells": [
  {
   "cell_type": "code",
   "execution_count": 1,
   "id": "288c65a1",
   "metadata": {},
   "outputs": [],
   "source": [
    "import pandas as pd \n",
    "import numpy as np\n",
    "from pandas.api.types import CategoricalDtype"
   ]
  },
  {
   "cell_type": "code",
   "execution_count": 2,
   "id": "d8b26888",
   "metadata": {},
   "outputs": [
    {
     "data": {
      "text/html": [
       "<div>\n",
       "<style scoped>\n",
       "    .dataframe tbody tr th:only-of-type {\n",
       "        vertical-align: middle;\n",
       "    }\n",
       "\n",
       "    .dataframe tbody tr th {\n",
       "        vertical-align: top;\n",
       "    }\n",
       "\n",
       "    .dataframe thead th {\n",
       "        text-align: right;\n",
       "    }\n",
       "</style>\n",
       "<table border=\"1\" class=\"dataframe\">\n",
       "  <thead>\n",
       "    <tr style=\"text-align: right;\">\n",
       "      <th></th>\n",
       "      <th>PRT_ID</th>\n",
       "      <th>AREA</th>\n",
       "      <th>INT_SQFT</th>\n",
       "      <th>DATE_SALE</th>\n",
       "      <th>DIST_MAINROAD</th>\n",
       "      <th>N_BEDROOM</th>\n",
       "      <th>N_BATHROOM</th>\n",
       "      <th>N_ROOM</th>\n",
       "      <th>SALE_COND</th>\n",
       "      <th>PARK_FACIL</th>\n",
       "      <th>...</th>\n",
       "      <th>UTILITY_AVAIL</th>\n",
       "      <th>STREET</th>\n",
       "      <th>MZZONE</th>\n",
       "      <th>QS_ROOMS</th>\n",
       "      <th>QS_BATHROOM</th>\n",
       "      <th>QS_BEDROOM</th>\n",
       "      <th>QS_OVERALL</th>\n",
       "      <th>REG_FEE</th>\n",
       "      <th>COMMIS</th>\n",
       "      <th>SALES_PRICE</th>\n",
       "    </tr>\n",
       "  </thead>\n",
       "  <tbody>\n",
       "    <tr>\n",
       "      <th>0</th>\n",
       "      <td>P03210</td>\n",
       "      <td>Karapakkam</td>\n",
       "      <td>1004</td>\n",
       "      <td>04-05-2011</td>\n",
       "      <td>131</td>\n",
       "      <td>1.0</td>\n",
       "      <td>1.0</td>\n",
       "      <td>3</td>\n",
       "      <td>AbNormal</td>\n",
       "      <td>Yes</td>\n",
       "      <td>...</td>\n",
       "      <td>AllPub</td>\n",
       "      <td>Paved</td>\n",
       "      <td>A</td>\n",
       "      <td>4.0</td>\n",
       "      <td>3.9</td>\n",
       "      <td>4.9</td>\n",
       "      <td>4.330</td>\n",
       "      <td>380000</td>\n",
       "      <td>144400</td>\n",
       "      <td>7600000</td>\n",
       "    </tr>\n",
       "    <tr>\n",
       "      <th>1</th>\n",
       "      <td>P09411</td>\n",
       "      <td>Anna Nagar</td>\n",
       "      <td>1986</td>\n",
       "      <td>19-12-2006</td>\n",
       "      <td>26</td>\n",
       "      <td>2.0</td>\n",
       "      <td>1.0</td>\n",
       "      <td>5</td>\n",
       "      <td>AbNormal</td>\n",
       "      <td>No</td>\n",
       "      <td>...</td>\n",
       "      <td>AllPub</td>\n",
       "      <td>Gravel</td>\n",
       "      <td>RH</td>\n",
       "      <td>4.9</td>\n",
       "      <td>4.2</td>\n",
       "      <td>2.5</td>\n",
       "      <td>3.765</td>\n",
       "      <td>760122</td>\n",
       "      <td>304049</td>\n",
       "      <td>21717770</td>\n",
       "    </tr>\n",
       "    <tr>\n",
       "      <th>2</th>\n",
       "      <td>P01812</td>\n",
       "      <td>Adyar</td>\n",
       "      <td>909</td>\n",
       "      <td>04-02-2012</td>\n",
       "      <td>70</td>\n",
       "      <td>1.0</td>\n",
       "      <td>1.0</td>\n",
       "      <td>3</td>\n",
       "      <td>AbNormal</td>\n",
       "      <td>Yes</td>\n",
       "      <td>...</td>\n",
       "      <td>ELO</td>\n",
       "      <td>Gravel</td>\n",
       "      <td>RL</td>\n",
       "      <td>4.1</td>\n",
       "      <td>3.8</td>\n",
       "      <td>2.2</td>\n",
       "      <td>3.090</td>\n",
       "      <td>421094</td>\n",
       "      <td>92114</td>\n",
       "      <td>13159200</td>\n",
       "    </tr>\n",
       "    <tr>\n",
       "      <th>3</th>\n",
       "      <td>P05346</td>\n",
       "      <td>Velachery</td>\n",
       "      <td>1855</td>\n",
       "      <td>13-03-2010</td>\n",
       "      <td>14</td>\n",
       "      <td>3.0</td>\n",
       "      <td>2.0</td>\n",
       "      <td>5</td>\n",
       "      <td>Family</td>\n",
       "      <td>No</td>\n",
       "      <td>...</td>\n",
       "      <td>NoSewr</td>\n",
       "      <td>Paved</td>\n",
       "      <td>I</td>\n",
       "      <td>4.7</td>\n",
       "      <td>3.9</td>\n",
       "      <td>3.6</td>\n",
       "      <td>4.010</td>\n",
       "      <td>356321</td>\n",
       "      <td>77042</td>\n",
       "      <td>9630290</td>\n",
       "    </tr>\n",
       "    <tr>\n",
       "      <th>4</th>\n",
       "      <td>P06210</td>\n",
       "      <td>Karapakkam</td>\n",
       "      <td>1226</td>\n",
       "      <td>05-10-2009</td>\n",
       "      <td>84</td>\n",
       "      <td>1.0</td>\n",
       "      <td>1.0</td>\n",
       "      <td>3</td>\n",
       "      <td>AbNormal</td>\n",
       "      <td>Yes</td>\n",
       "      <td>...</td>\n",
       "      <td>AllPub</td>\n",
       "      <td>Gravel</td>\n",
       "      <td>C</td>\n",
       "      <td>3.0</td>\n",
       "      <td>2.5</td>\n",
       "      <td>4.1</td>\n",
       "      <td>3.290</td>\n",
       "      <td>237000</td>\n",
       "      <td>74063</td>\n",
       "      <td>7406250</td>\n",
       "    </tr>\n",
       "    <tr>\n",
       "      <th>...</th>\n",
       "      <td>...</td>\n",
       "      <td>...</td>\n",
       "      <td>...</td>\n",
       "      <td>...</td>\n",
       "      <td>...</td>\n",
       "      <td>...</td>\n",
       "      <td>...</td>\n",
       "      <td>...</td>\n",
       "      <td>...</td>\n",
       "      <td>...</td>\n",
       "      <td>...</td>\n",
       "      <td>...</td>\n",
       "      <td>...</td>\n",
       "      <td>...</td>\n",
       "      <td>...</td>\n",
       "      <td>...</td>\n",
       "      <td>...</td>\n",
       "      <td>...</td>\n",
       "      <td>...</td>\n",
       "      <td>...</td>\n",
       "      <td>...</td>\n",
       "    </tr>\n",
       "    <tr>\n",
       "      <th>7104</th>\n",
       "      <td>P03834</td>\n",
       "      <td>Karapakkam</td>\n",
       "      <td>598</td>\n",
       "      <td>03-01-2011</td>\n",
       "      <td>51</td>\n",
       "      <td>1.0</td>\n",
       "      <td>1.0</td>\n",
       "      <td>2</td>\n",
       "      <td>AdjLand</td>\n",
       "      <td>No</td>\n",
       "      <td>...</td>\n",
       "      <td>ELO</td>\n",
       "      <td>No Access</td>\n",
       "      <td>RM</td>\n",
       "      <td>3.0</td>\n",
       "      <td>2.2</td>\n",
       "      <td>2.4</td>\n",
       "      <td>2.520</td>\n",
       "      <td>208767</td>\n",
       "      <td>107060</td>\n",
       "      <td>5353000</td>\n",
       "    </tr>\n",
       "    <tr>\n",
       "      <th>7105</th>\n",
       "      <td>P10000</td>\n",
       "      <td>Velachery</td>\n",
       "      <td>1897</td>\n",
       "      <td>08-04-2004</td>\n",
       "      <td>52</td>\n",
       "      <td>3.0</td>\n",
       "      <td>2.0</td>\n",
       "      <td>5</td>\n",
       "      <td>Family</td>\n",
       "      <td>Yes</td>\n",
       "      <td>...</td>\n",
       "      <td>NoSeWa</td>\n",
       "      <td>No Access</td>\n",
       "      <td>RH</td>\n",
       "      <td>3.6</td>\n",
       "      <td>4.5</td>\n",
       "      <td>3.3</td>\n",
       "      <td>3.920</td>\n",
       "      <td>346191</td>\n",
       "      <td>205551</td>\n",
       "      <td>10818480</td>\n",
       "    </tr>\n",
       "    <tr>\n",
       "      <th>7106</th>\n",
       "      <td>P09594</td>\n",
       "      <td>Velachery</td>\n",
       "      <td>1614</td>\n",
       "      <td>25-08-2006</td>\n",
       "      <td>152</td>\n",
       "      <td>2.0</td>\n",
       "      <td>1.0</td>\n",
       "      <td>4</td>\n",
       "      <td>Normal Sale</td>\n",
       "      <td>No</td>\n",
       "      <td>...</td>\n",
       "      <td>NoSeWa</td>\n",
       "      <td>Gravel</td>\n",
       "      <td>I</td>\n",
       "      <td>4.3</td>\n",
       "      <td>4.2</td>\n",
       "      <td>2.9</td>\n",
       "      <td>3.840</td>\n",
       "      <td>317354</td>\n",
       "      <td>167028</td>\n",
       "      <td>8351410</td>\n",
       "    </tr>\n",
       "    <tr>\n",
       "      <th>7107</th>\n",
       "      <td>P06508</td>\n",
       "      <td>Karapakkam</td>\n",
       "      <td>787</td>\n",
       "      <td>03-08-2009</td>\n",
       "      <td>40</td>\n",
       "      <td>1.0</td>\n",
       "      <td>1.0</td>\n",
       "      <td>2</td>\n",
       "      <td>Partial</td>\n",
       "      <td>Yes</td>\n",
       "      <td>...</td>\n",
       "      <td>ELO</td>\n",
       "      <td>Paved</td>\n",
       "      <td>RL</td>\n",
       "      <td>4.6</td>\n",
       "      <td>3.8</td>\n",
       "      <td>4.1</td>\n",
       "      <td>4.160</td>\n",
       "      <td>425350</td>\n",
       "      <td>119098</td>\n",
       "      <td>8507000</td>\n",
       "    </tr>\n",
       "    <tr>\n",
       "      <th>7108</th>\n",
       "      <td>P09794</td>\n",
       "      <td>Velachery</td>\n",
       "      <td>1896</td>\n",
       "      <td>13-07-2005</td>\n",
       "      <td>156</td>\n",
       "      <td>3.0</td>\n",
       "      <td>2.0</td>\n",
       "      <td>5</td>\n",
       "      <td>Partial</td>\n",
       "      <td>Yes</td>\n",
       "      <td>...</td>\n",
       "      <td>ELO</td>\n",
       "      <td>Paved</td>\n",
       "      <td>I</td>\n",
       "      <td>3.1</td>\n",
       "      <td>3.5</td>\n",
       "      <td>4.3</td>\n",
       "      <td>3.640</td>\n",
       "      <td>349177</td>\n",
       "      <td>79812</td>\n",
       "      <td>9976480</td>\n",
       "    </tr>\n",
       "  </tbody>\n",
       "</table>\n",
       "<p>7109 rows × 22 columns</p>\n",
       "</div>"
      ],
      "text/plain": [
       "      PRT_ID        AREA  INT_SQFT   DATE_SALE  DIST_MAINROAD  N_BEDROOM  \\\n",
       "0     P03210  Karapakkam      1004  04-05-2011            131        1.0   \n",
       "1     P09411  Anna Nagar      1986  19-12-2006             26        2.0   \n",
       "2     P01812       Adyar       909  04-02-2012             70        1.0   \n",
       "3     P05346   Velachery      1855  13-03-2010             14        3.0   \n",
       "4     P06210  Karapakkam      1226  05-10-2009             84        1.0   \n",
       "...      ...         ...       ...         ...            ...        ...   \n",
       "7104  P03834  Karapakkam       598  03-01-2011             51        1.0   \n",
       "7105  P10000   Velachery      1897  08-04-2004             52        3.0   \n",
       "7106  P09594   Velachery      1614  25-08-2006            152        2.0   \n",
       "7107  P06508  Karapakkam       787  03-08-2009             40        1.0   \n",
       "7108  P09794   Velachery      1896  13-07-2005            156        3.0   \n",
       "\n",
       "      N_BATHROOM  N_ROOM    SALE_COND PARK_FACIL  ... UTILITY_AVAIL  \\\n",
       "0            1.0       3     AbNormal        Yes  ...        AllPub   \n",
       "1            1.0       5     AbNormal         No  ...        AllPub   \n",
       "2            1.0       3     AbNormal        Yes  ...           ELO   \n",
       "3            2.0       5       Family         No  ...       NoSewr    \n",
       "4            1.0       3     AbNormal        Yes  ...        AllPub   \n",
       "...          ...     ...          ...        ...  ...           ...   \n",
       "7104         1.0       2      AdjLand         No  ...           ELO   \n",
       "7105         2.0       5       Family        Yes  ...        NoSeWa   \n",
       "7106         1.0       4  Normal Sale         No  ...        NoSeWa   \n",
       "7107         1.0       2      Partial        Yes  ...           ELO   \n",
       "7108         2.0       5      Partial        Yes  ...           ELO   \n",
       "\n",
       "         STREET MZZONE QS_ROOMS QS_BATHROOM  QS_BEDROOM  QS_OVERALL  REG_FEE  \\\n",
       "0         Paved      A      4.0         3.9         4.9       4.330   380000   \n",
       "1        Gravel     RH      4.9         4.2         2.5       3.765   760122   \n",
       "2        Gravel     RL      4.1         3.8         2.2       3.090   421094   \n",
       "3         Paved      I      4.7         3.9         3.6       4.010   356321   \n",
       "4        Gravel      C      3.0         2.5         4.1       3.290   237000   \n",
       "...         ...    ...      ...         ...         ...         ...      ...   \n",
       "7104  No Access     RM      3.0         2.2         2.4       2.520   208767   \n",
       "7105  No Access     RH      3.6         4.5         3.3       3.920   346191   \n",
       "7106     Gravel      I      4.3         4.2         2.9       3.840   317354   \n",
       "7107      Paved     RL      4.6         3.8         4.1       4.160   425350   \n",
       "7108      Paved      I      3.1         3.5         4.3       3.640   349177   \n",
       "\n",
       "      COMMIS  SALES_PRICE  \n",
       "0     144400      7600000  \n",
       "1     304049     21717770  \n",
       "2      92114     13159200  \n",
       "3      77042      9630290  \n",
       "4      74063      7406250  \n",
       "...      ...          ...  \n",
       "7104  107060      5353000  \n",
       "7105  205551     10818480  \n",
       "7106  167028      8351410  \n",
       "7107  119098      8507000  \n",
       "7108   79812      9976480  \n",
       "\n",
       "[7109 rows x 22 columns]"
      ]
     },
     "execution_count": 2,
     "metadata": {},
     "output_type": "execute_result"
    }
   ],
   "source": [
    "data=pd.read_csv(\"train-chennai-sale.csv\")\n",
    "data"
   ]
  },
  {
   "cell_type": "code",
   "execution_count": 3,
   "id": "50cb0265",
   "metadata": {},
   "outputs": [
    {
     "name": "stdout",
     "output_type": "stream",
     "text": [
      "<class 'pandas.core.frame.DataFrame'>\n",
      "RangeIndex: 7109 entries, 0 to 7108\n",
      "Data columns (total 22 columns):\n",
      " #   Column         Non-Null Count  Dtype  \n",
      "---  ------         --------------  -----  \n",
      " 0   PRT_ID         7109 non-null   object \n",
      " 1   AREA           7109 non-null   object \n",
      " 2   INT_SQFT       7109 non-null   int64  \n",
      " 3   DATE_SALE      7109 non-null   object \n",
      " 4   DIST_MAINROAD  7109 non-null   int64  \n",
      " 5   N_BEDROOM      7108 non-null   float64\n",
      " 6   N_BATHROOM     7104 non-null   float64\n",
      " 7   N_ROOM         7109 non-null   int64  \n",
      " 8   SALE_COND      7109 non-null   object \n",
      " 9   PARK_FACIL     7109 non-null   object \n",
      " 10  DATE_BUILD     7109 non-null   object \n",
      " 11  BUILDTYPE      7109 non-null   object \n",
      " 12  UTILITY_AVAIL  7109 non-null   object \n",
      " 13  STREET         7109 non-null   object \n",
      " 14  MZZONE         7109 non-null   object \n",
      " 15  QS_ROOMS       7109 non-null   float64\n",
      " 16  QS_BATHROOM    7109 non-null   float64\n",
      " 17  QS_BEDROOM     7109 non-null   float64\n",
      " 18  QS_OVERALL     7061 non-null   float64\n",
      " 19  REG_FEE        7109 non-null   int64  \n",
      " 20  COMMIS         7109 non-null   int64  \n",
      " 21  SALES_PRICE    7109 non-null   int64  \n",
      "dtypes: float64(6), int64(6), object(10)\n",
      "memory usage: 1.2+ MB\n"
     ]
    }
   ],
   "source": [
    "data.info()"
   ]
  },
  {
   "cell_type": "code",
   "execution_count": 4,
   "id": "2e5715d3",
   "metadata": {},
   "outputs": [
    {
     "name": "stdout",
     "output_type": "stream",
     "text": [
      "P03210    1\n",
      "P01175    1\n",
      "P07437    1\n",
      "P06628    1\n",
      "P02767    1\n",
      "         ..\n",
      "P01279    1\n",
      "P00654    1\n",
      "P03895    1\n",
      "P02662    1\n",
      "P09794    1\n",
      "Name: PRT_ID, Length: 7109, dtype: int64\n",
      "#############################\n",
      "Chrompet      1681\n",
      "Karapakkam    1363\n",
      "KK Nagar       996\n",
      "Velachery      979\n",
      "Anna Nagar     783\n",
      "Adyar          773\n",
      "T Nagar        496\n",
      "Chrompt          9\n",
      "Chrmpet          6\n",
      "Chormpet         6\n",
      "TNagar           5\n",
      "Karapakam        3\n",
      "Ana Nagar        3\n",
      "Velchery         2\n",
      "Ann Nagar        2\n",
      "Adyr             1\n",
      "KKNagar          1\n",
      "Name: AREA, dtype: int64\n",
      "#############################\n",
      "1781    18\n",
      "1538    15\n",
      "1505    13\n",
      "1514    13\n",
      "1634    12\n",
      "        ..\n",
      "559      1\n",
      "2479     1\n",
      "1330     1\n",
      "880      1\n",
      "598      1\n",
      "Name: INT_SQFT, Length: 1699, dtype: int64\n",
      "#############################\n",
      "06-10-2009    12\n",
      "06-01-2009    10\n",
      "12-04-2011    10\n",
      "26-02-2012    10\n",
      "17-11-2010    10\n",
      "              ..\n",
      "21-12-2014     1\n",
      "29-06-2004     1\n",
      "27-08-2004     1\n",
      "03-05-2012     1\n",
      "13-07-2005     1\n",
      "Name: DATE_SALE, Length: 2798, dtype: int64\n",
      "#############################\n",
      "39     56\n",
      "51     53\n",
      "78     52\n",
      "77     49\n",
      "73     48\n",
      "       ..\n",
      "33     24\n",
      "136    24\n",
      "167    24\n",
      "12     23\n",
      "25     20\n",
      "Name: DIST_MAINROAD, Length: 201, dtype: int64\n",
      "#############################\n",
      "1.0    3795\n",
      "2.0    2352\n",
      "3.0     707\n",
      "4.0     254\n",
      "Name: N_BEDROOM, dtype: int64\n",
      "#############################\n",
      "1.0    5589\n",
      "2.0    1515\n",
      "Name: N_BATHROOM, dtype: int64\n",
      "#############################\n",
      "4    2563\n",
      "3    2125\n",
      "5    1246\n",
      "2     921\n",
      "6     254\n",
      "Name: N_ROOM, dtype: int64\n",
      "#############################\n",
      "AdjLand        1433\n",
      "Partial        1429\n",
      "Normal Sale    1423\n",
      "AbNormal       1406\n",
      "Family         1403\n",
      "Adj Land          6\n",
      "Ab Normal         5\n",
      "Partiall          3\n",
      "PartiaLl          1\n",
      "Name: SALE_COND, dtype: int64\n",
      "#############################\n",
      "Yes    3587\n",
      "No     3520\n",
      "Noo       2\n",
      "Name: PARK_FACIL, dtype: int64\n",
      "#############################\n",
      "02-07-1987    6\n",
      "04-04-1999    5\n",
      "27-08-2000    4\n",
      "13-05-1982    4\n",
      "08-04-1989    4\n",
      "             ..\n",
      "24-07-1970    1\n",
      "12-02-1998    1\n",
      "04-11-1977    1\n",
      "21-04-1986    1\n",
      "24-07-1961    1\n",
      "Name: DATE_BUILD, Length: 5808, dtype: int64\n",
      "#############################\n",
      "House         2444\n",
      "Commercial    2325\n",
      "Others        2310\n",
      "Other           26\n",
      "Comercial        4\n",
      "Name: BUILDTYPE, dtype: int64\n",
      "#############################\n",
      "AllPub     1886\n",
      "NoSeWa     1871\n",
      "NoSewr     1829\n",
      "ELO        1522\n",
      "All Pub       1\n",
      "Name: UTILITY_AVAIL, dtype: int64\n",
      "#############################\n",
      "Paved        2560\n",
      "Gravel       2520\n",
      "No Access    2010\n",
      "Pavd           12\n",
      "NoAccess        7\n",
      "Name: STREET, dtype: int64\n",
      "#############################\n",
      "RL    1858\n",
      "RH    1822\n",
      "RM    1817\n",
      "C      550\n",
      "A      537\n",
      "I      525\n",
      "Name: MZZONE, dtype: int64\n",
      "#############################\n",
      "2.5    265\n",
      "3.8    259\n",
      "3.6    255\n",
      "4.6    252\n",
      "3.9    245\n",
      "4.9    242\n",
      "3.4    240\n",
      "4.7    239\n",
      "3.3    239\n",
      "4.8    239\n",
      "4.2    239\n",
      "2.6    237\n",
      "2.1    236\n",
      "3.1    230\n",
      "5.0    228\n",
      "3.0    228\n",
      "3.5    227\n",
      "2.8    226\n",
      "4.3    225\n",
      "2.3    224\n",
      "4.1    222\n",
      "2.9    220\n",
      "4.4    219\n",
      "4.5    218\n",
      "4.0    218\n",
      "2.2    213\n",
      "2.4    208\n",
      "3.2    208\n",
      "3.7    205\n",
      "2.0    203\n",
      "2.7    200\n",
      "Name: QS_ROOMS, dtype: int64\n",
      "#############################\n",
      "2.7    256\n",
      "4.8    255\n",
      "3.7    251\n",
      "4.7    247\n",
      "4.9    245\n",
      "3.0    241\n",
      "4.2    237\n",
      "4.6    234\n",
      "3.4    234\n",
      "2.2    234\n",
      "2.5    233\n",
      "4.0    232\n",
      "3.1    232\n",
      "4.5    231\n",
      "2.4    230\n",
      "2.9    228\n",
      "3.3    227\n",
      "3.2    226\n",
      "2.6    226\n",
      "3.5    225\n",
      "2.1    224\n",
      "4.3    224\n",
      "2.0    222\n",
      "3.6    221\n",
      "2.3    220\n",
      "4.4    219\n",
      "5.0    219\n",
      "3.9    211\n",
      "4.1    210\n",
      "3.8    209\n",
      "2.8    206\n",
      "Name: QS_BATHROOM, dtype: int64\n",
      "#############################\n",
      "2.6    273\n",
      "3.2    253\n",
      "4.0    248\n",
      "2.4    244\n",
      "3.8    244\n",
      "3.1    243\n",
      "2.1    242\n",
      "3.0    241\n",
      "3.4    239\n",
      "4.3    237\n",
      "4.4    237\n",
      "3.5    237\n",
      "2.2    237\n",
      "3.3    234\n",
      "4.6    233\n",
      "4.7    228\n",
      "4.5    227\n",
      "2.5    226\n",
      "3.6    225\n",
      "4.1    223\n",
      "2.7    222\n",
      "2.0    221\n",
      "3.9    220\n",
      "2.9    219\n",
      "5.0    217\n",
      "4.2    212\n",
      "4.8    211\n",
      "2.8    210\n",
      "3.7    203\n",
      "4.9    203\n",
      "2.3    200\n",
      "Name: QS_BEDROOM, dtype: int64\n",
      "#############################\n",
      "3.540    59\n",
      "3.260    57\n",
      "3.320    56\n",
      "3.560    55\n",
      "3.360    54\n",
      "         ..\n",
      "2.545     1\n",
      "2.110     1\n",
      "3.965     1\n",
      "4.345     1\n",
      "4.940     1\n",
      "Name: QS_OVERALL, Length: 479, dtype: int64\n",
      "#############################\n",
      "235229    3\n",
      "304066    2\n",
      "291085    2\n",
      "457606    2\n",
      "351194    2\n",
      "         ..\n",
      "602559    1\n",
      "493507    1\n",
      "132013    1\n",
      "218460    1\n",
      "349177    1\n",
      "Name: REG_FEE, Length: 7038, dtype: int64\n",
      "#############################\n",
      "117825    3\n",
      "50804     2\n",
      "155124    2\n",
      "148017    2\n",
      "120600    2\n",
      "         ..\n",
      "84023     1\n",
      "212522    1\n",
      "84390     1\n",
      "145799    1\n",
      "79812     1\n",
      "Name: COMMIS, Length: 7011, dtype: int64\n",
      "#############################\n",
      "5378000     2\n",
      "9429000     2\n",
      "4971250     2\n",
      "4546625     2\n",
      "11930880    2\n",
      "           ..\n",
      "6928000     1\n",
      "14874950    1\n",
      "9304770     1\n",
      "6980320     1\n",
      "9976480     1\n",
      "Name: SALES_PRICE, Length: 7057, dtype: int64\n",
      "#############################\n"
     ]
    }
   ],
   "source": [
    "for column in data.columns:\n",
    "    print(data[column].value_counts())\n",
    "    print(\"#############################\")"
   ]
  },
  {
   "cell_type": "code",
   "execution_count": 5,
   "id": "6cf5bc6e",
   "metadata": {},
   "outputs": [
    {
     "data": {
      "text/plain": [
       "PRT_ID            0\n",
       "AREA              0\n",
       "INT_SQFT          0\n",
       "DATE_SALE         0\n",
       "DIST_MAINROAD     0\n",
       "N_BEDROOM         1\n",
       "N_BATHROOM        5\n",
       "N_ROOM            0\n",
       "SALE_COND         0\n",
       "PARK_FACIL        0\n",
       "DATE_BUILD        0\n",
       "BUILDTYPE         0\n",
       "UTILITY_AVAIL     0\n",
       "STREET            0\n",
       "MZZONE            0\n",
       "QS_ROOMS          0\n",
       "QS_BATHROOM       0\n",
       "QS_BEDROOM        0\n",
       "QS_OVERALL       48\n",
       "REG_FEE           0\n",
       "COMMIS            0\n",
       "SALES_PRICE       0\n",
       "dtype: int64"
      ]
     },
     "execution_count": 5,
     "metadata": {},
     "output_type": "execute_result"
    }
   ],
   "source": [
    "data.isna().sum()"
   ]
  },
  {
   "cell_type": "code",
   "execution_count": 6,
   "id": "da91d1c4",
   "metadata": {},
   "outputs": [
    {
     "data": {
      "text/html": [
       "<div>\n",
       "<style scoped>\n",
       "    .dataframe tbody tr th:only-of-type {\n",
       "        vertical-align: middle;\n",
       "    }\n",
       "\n",
       "    .dataframe tbody tr th {\n",
       "        vertical-align: top;\n",
       "    }\n",
       "\n",
       "    .dataframe thead th {\n",
       "        text-align: right;\n",
       "    }\n",
       "</style>\n",
       "<table border=\"1\" class=\"dataframe\">\n",
       "  <thead>\n",
       "    <tr style=\"text-align: right;\">\n",
       "      <th></th>\n",
       "      <th>INT_SQFT</th>\n",
       "      <th>DIST_MAINROAD</th>\n",
       "      <th>N_BEDROOM</th>\n",
       "      <th>N_BATHROOM</th>\n",
       "      <th>N_ROOM</th>\n",
       "      <th>QS_ROOMS</th>\n",
       "      <th>QS_BATHROOM</th>\n",
       "      <th>QS_BEDROOM</th>\n",
       "      <th>QS_OVERALL</th>\n",
       "      <th>REG_FEE</th>\n",
       "      <th>COMMIS</th>\n",
       "      <th>SALES_PRICE</th>\n",
       "    </tr>\n",
       "  </thead>\n",
       "  <tbody>\n",
       "    <tr>\n",
       "      <th>count</th>\n",
       "      <td>7109.000000</td>\n",
       "      <td>7109.000000</td>\n",
       "      <td>7108.000000</td>\n",
       "      <td>7104.000000</td>\n",
       "      <td>7109.000000</td>\n",
       "      <td>7109.000000</td>\n",
       "      <td>7109.000000</td>\n",
       "      <td>7109.000000</td>\n",
       "      <td>7061.000000</td>\n",
       "      <td>7109.000000</td>\n",
       "      <td>7109.000000</td>\n",
       "      <td>7.109000e+03</td>\n",
       "    </tr>\n",
       "    <tr>\n",
       "      <th>mean</th>\n",
       "      <td>1382.073006</td>\n",
       "      <td>99.603179</td>\n",
       "      <td>1.637029</td>\n",
       "      <td>1.213260</td>\n",
       "      <td>3.688704</td>\n",
       "      <td>3.517471</td>\n",
       "      <td>3.507244</td>\n",
       "      <td>3.485300</td>\n",
       "      <td>3.503254</td>\n",
       "      <td>376938.330708</td>\n",
       "      <td>141005.726544</td>\n",
       "      <td>1.089491e+07</td>\n",
       "    </tr>\n",
       "    <tr>\n",
       "      <th>std</th>\n",
       "      <td>457.410902</td>\n",
       "      <td>57.403110</td>\n",
       "      <td>0.802902</td>\n",
       "      <td>0.409639</td>\n",
       "      <td>1.019099</td>\n",
       "      <td>0.891972</td>\n",
       "      <td>0.897834</td>\n",
       "      <td>0.887266</td>\n",
       "      <td>0.527223</td>\n",
       "      <td>143070.662010</td>\n",
       "      <td>78768.093718</td>\n",
       "      <td>3.768603e+06</td>\n",
       "    </tr>\n",
       "    <tr>\n",
       "      <th>min</th>\n",
       "      <td>500.000000</td>\n",
       "      <td>0.000000</td>\n",
       "      <td>1.000000</td>\n",
       "      <td>1.000000</td>\n",
       "      <td>2.000000</td>\n",
       "      <td>2.000000</td>\n",
       "      <td>2.000000</td>\n",
       "      <td>2.000000</td>\n",
       "      <td>2.000000</td>\n",
       "      <td>71177.000000</td>\n",
       "      <td>5055.000000</td>\n",
       "      <td>2.156875e+06</td>\n",
       "    </tr>\n",
       "    <tr>\n",
       "      <th>25%</th>\n",
       "      <td>993.000000</td>\n",
       "      <td>50.000000</td>\n",
       "      <td>1.000000</td>\n",
       "      <td>1.000000</td>\n",
       "      <td>3.000000</td>\n",
       "      <td>2.700000</td>\n",
       "      <td>2.700000</td>\n",
       "      <td>2.700000</td>\n",
       "      <td>3.130000</td>\n",
       "      <td>272406.000000</td>\n",
       "      <td>84219.000000</td>\n",
       "      <td>8.272100e+06</td>\n",
       "    </tr>\n",
       "    <tr>\n",
       "      <th>50%</th>\n",
       "      <td>1373.000000</td>\n",
       "      <td>99.000000</td>\n",
       "      <td>1.000000</td>\n",
       "      <td>1.000000</td>\n",
       "      <td>4.000000</td>\n",
       "      <td>3.500000</td>\n",
       "      <td>3.500000</td>\n",
       "      <td>3.500000</td>\n",
       "      <td>3.500000</td>\n",
       "      <td>349486.000000</td>\n",
       "      <td>127628.000000</td>\n",
       "      <td>1.033505e+07</td>\n",
       "    </tr>\n",
       "    <tr>\n",
       "      <th>75%</th>\n",
       "      <td>1744.000000</td>\n",
       "      <td>148.000000</td>\n",
       "      <td>2.000000</td>\n",
       "      <td>1.000000</td>\n",
       "      <td>4.000000</td>\n",
       "      <td>4.300000</td>\n",
       "      <td>4.300000</td>\n",
       "      <td>4.300000</td>\n",
       "      <td>3.890000</td>\n",
       "      <td>451562.000000</td>\n",
       "      <td>184506.000000</td>\n",
       "      <td>1.299390e+07</td>\n",
       "    </tr>\n",
       "    <tr>\n",
       "      <th>max</th>\n",
       "      <td>2500.000000</td>\n",
       "      <td>200.000000</td>\n",
       "      <td>4.000000</td>\n",
       "      <td>2.000000</td>\n",
       "      <td>6.000000</td>\n",
       "      <td>5.000000</td>\n",
       "      <td>5.000000</td>\n",
       "      <td>5.000000</td>\n",
       "      <td>4.970000</td>\n",
       "      <td>983922.000000</td>\n",
       "      <td>495405.000000</td>\n",
       "      <td>2.366734e+07</td>\n",
       "    </tr>\n",
       "  </tbody>\n",
       "</table>\n",
       "</div>"
      ],
      "text/plain": [
       "          INT_SQFT  DIST_MAINROAD    N_BEDROOM   N_BATHROOM       N_ROOM  \\\n",
       "count  7109.000000    7109.000000  7108.000000  7104.000000  7109.000000   \n",
       "mean   1382.073006      99.603179     1.637029     1.213260     3.688704   \n",
       "std     457.410902      57.403110     0.802902     0.409639     1.019099   \n",
       "min     500.000000       0.000000     1.000000     1.000000     2.000000   \n",
       "25%     993.000000      50.000000     1.000000     1.000000     3.000000   \n",
       "50%    1373.000000      99.000000     1.000000     1.000000     4.000000   \n",
       "75%    1744.000000     148.000000     2.000000     1.000000     4.000000   \n",
       "max    2500.000000     200.000000     4.000000     2.000000     6.000000   \n",
       "\n",
       "          QS_ROOMS  QS_BATHROOM   QS_BEDROOM   QS_OVERALL        REG_FEE  \\\n",
       "count  7109.000000  7109.000000  7109.000000  7061.000000    7109.000000   \n",
       "mean      3.517471     3.507244     3.485300     3.503254  376938.330708   \n",
       "std       0.891972     0.897834     0.887266     0.527223  143070.662010   \n",
       "min       2.000000     2.000000     2.000000     2.000000   71177.000000   \n",
       "25%       2.700000     2.700000     2.700000     3.130000  272406.000000   \n",
       "50%       3.500000     3.500000     3.500000     3.500000  349486.000000   \n",
       "75%       4.300000     4.300000     4.300000     3.890000  451562.000000   \n",
       "max       5.000000     5.000000     5.000000     4.970000  983922.000000   \n",
       "\n",
       "              COMMIS   SALES_PRICE  \n",
       "count    7109.000000  7.109000e+03  \n",
       "mean   141005.726544  1.089491e+07  \n",
       "std     78768.093718  3.768603e+06  \n",
       "min      5055.000000  2.156875e+06  \n",
       "25%     84219.000000  8.272100e+06  \n",
       "50%    127628.000000  1.033505e+07  \n",
       "75%    184506.000000  1.299390e+07  \n",
       "max    495405.000000  2.366734e+07  "
      ]
     },
     "execution_count": 6,
     "metadata": {},
     "output_type": "execute_result"
    }
   ],
   "source": [
    "data.describe()"
   ]
  },
  {
   "cell_type": "markdown",
   "id": "3c4881d9",
   "metadata": {},
   "source": [
    "# Handling Missing Value"
   ]
  },
  {
   "cell_type": "markdown",
   "id": "201e01f1",
   "metadata": {},
   "source": [
    "# null,missing values"
   ]
  },
  {
   "cell_type": "code",
   "execution_count": 7,
   "id": "2eb434f7",
   "metadata": {},
   "outputs": [],
   "source": [
    "import matplotlib.pyplot as plt\n",
    "import seaborn as sns"
   ]
  },
  {
   "cell_type": "code",
   "execution_count": 8,
   "id": "8b7aa41a",
   "metadata": {},
   "outputs": [
    {
     "data": {
      "text/plain": [
       "<AxesSubplot:>"
      ]
     },
     "execution_count": 8,
     "metadata": {},
     "output_type": "execute_result"
    },
    {
     "data": {
      "image/png": "[encoded data removed]",
      "text/plain": [
       "<Figure size 1152x648 with 2 Axes>"
      ]
     },
     "metadata": {
      "needs_background": "light"
     },
     "output_type": "display_data"
    }
   ],
   "source": [
    "plt.figure(figsize=(16,9))\n",
    "sns.heatmap(data.isnull())"
   ]
  },
  {
   "cell_type": "markdown",
   "id": "b48dce7e",
   "metadata": {},
   "source": [
    "# Get the null value percentage for every feature"
   ]
  },
  {
   "cell_type": "code",
   "execution_count": 9,
   "id": "861a8e3b",
   "metadata": {},
   "outputs": [
    {
     "data": {
      "text/plain": [
       "PRT_ID           0.000000\n",
       "AREA             0.000000\n",
       "INT_SQFT         0.000000\n",
       "DATE_SALE        0.000000\n",
       "DIST_MAINROAD    0.000000\n",
       "N_BEDROOM        0.014067\n",
       "N_BATHROOM       0.070333\n",
       "N_ROOM           0.000000\n",
       "SALE_COND        0.000000\n",
       "PARK_FACIL       0.000000\n",
       "DATE_BUILD       0.000000\n",
       "BUILDTYPE        0.000000\n",
       "UTILITY_AVAIL    0.000000\n",
       "STREET           0.000000\n",
       "MZZONE           0.000000\n",
       "QS_ROOMS         0.000000\n",
       "QS_BATHROOM      0.000000\n",
       "QS_BEDROOM       0.000000\n",
       "QS_OVERALL       0.675200\n",
       "REG_FEE          0.000000\n",
       "COMMIS           0.000000\n",
       "SALES_PRICE      0.000000\n",
       "dtype: float64"
      ]
     },
     "execution_count": 9,
     "metadata": {},
     "output_type": "execute_result"
    }
   ],
   "source": [
    "null_percent = data.isnull().sum()/data.shape[0]*100\n",
    "null_percent"
   ]
  },
  {
   "cell_type": "code",
   "execution_count": 10,
   "id": "0609df22",
   "metadata": {},
   "outputs": [
    {
     "data": {
      "text/plain": [
       "(7109, 22)"
      ]
     },
     "execution_count": 10,
     "metadata": {},
     "output_type": "execute_result"
    }
   ],
   "source": [
    "#data copy\n",
    "data_copy=data.copy()\n",
    "data_copy.shape"
   ]
  },
  {
   "cell_type": "code",
   "execution_count": 11,
   "id": "f5fd1c78",
   "metadata": {},
   "outputs": [],
   "source": [
    "# Bedroom values"
   ]
  },
  {
   "cell_type": "code",
   "execution_count": 12,
   "id": "435aa364",
   "metadata": {},
   "outputs": [
    {
     "data": {
      "text/plain": [
       "1.0    3795\n",
       "2.0    2352\n",
       "3.0     707\n",
       "4.0     254\n",
       "Name: N_BEDROOM, dtype: int64"
      ]
     },
     "execution_count": 12,
     "metadata": {},
     "output_type": "execute_result"
    }
   ],
   "source": [
    "data[\"N_BEDROOM\"].value_counts()"
   ]
  },
  {
   "cell_type": "code",
   "execution_count": 13,
   "id": "58196ea2",
   "metadata": {},
   "outputs": [],
   "source": [
    "def boxHistPlot(data_copy, figsize=(16,5)):\n",
    "    plt.figure(figsize=figsize)\n",
    "    plt.subplot(121)\n",
    "    sns.boxplot(data_copy)\n",
    "    plt.subplot(122)\n",
    "    sns.histplot(data_copy)"
   ]
  },
  {
   "cell_type": "code",
   "execution_count": 14,
   "id": "b1a8922b",
   "metadata": {
    "scrolled": true
   },
   "outputs": [
    {
     "name": "stderr",
     "output_type": "stream",
     "text": [
      "C:\\Users\\amanm\\anaconda3\\lib\\site-packages\\seaborn\\_decorators.py:36: FutureWarning: Pass the following variable as a keyword arg: x. From version 0.12, the only valid positional argument will be `data`, and passing other arguments without an explicit keyword will result in an error or misinterpretation.\n",
      "  warnings.warn(\n"
     ]
    },
    {
     "data": {
      "image/png": "[encoded data removed]",
      "text/plain": [
       "<Figure size 1152x360 with 2 Axes>"
      ]
     },
     "metadata": {
      "needs_background": "light"
     },
     "output_type": "display_data"
    }
   ],
   "source": [
    "boxHistPlot(data_copy[\"N_BEDROOM\"])"
   ]
  },
  {
   "cell_type": "code",
   "execution_count": 15,
   "id": "217abde0",
   "metadata": {},
   "outputs": [],
   "source": [
    "n_bedroom_median=data[\"N_BEDROOM\"].median()"
   ]
  },
  {
   "cell_type": "code",
   "execution_count": 16,
   "id": "0dcc405c",
   "metadata": {},
   "outputs": [
    {
     "data": {
      "text/plain": [
       "0"
      ]
     },
     "execution_count": 16,
     "metadata": {},
     "output_type": "execute_result"
    }
   ],
   "source": [
    "data_copy[\"N_BEDROOM\"].replace(np.nan, n_bedroom_median,inplace=True)\n",
    "data_copy[\"N_BEDROOM\"].isnull().sum()"
   ]
  },
  {
   "cell_type": "code",
   "execution_count": 17,
   "id": "8a74a206",
   "metadata": {},
   "outputs": [],
   "source": [
    "#bathroom "
   ]
  },
  {
   "cell_type": "code",
   "execution_count": 18,
   "id": "9131d63a",
   "metadata": {},
   "outputs": [
    {
     "data": {
      "text/plain": [
       "1.0    5589\n",
       "2.0    1515\n",
       "Name: N_BATHROOM, dtype: int64"
      ]
     },
     "execution_count": 18,
     "metadata": {},
     "output_type": "execute_result"
    }
   ],
   "source": [
    "data_copy[\"N_BATHROOM\"].value_counts()"
   ]
  },
  {
   "cell_type": "code",
   "execution_count": 19,
   "id": "77b8619c",
   "metadata": {},
   "outputs": [],
   "source": [
    "def boxHistPlot(data_copy, figsize=(16,5)):\n",
    "    plt.figure(figsize=figsize)\n",
    "    plt.subplot(121)\n",
    "    sns.boxplot(data_copy)\n",
    "    plt.subplot(122)\n",
    "    sns.histplot(data_copy)"
   ]
  },
  {
   "cell_type": "code",
   "execution_count": 20,
   "id": "f9d03cfc",
   "metadata": {},
   "outputs": [
    {
     "name": "stderr",
     "output_type": "stream",
     "text": [
      "C:\\Users\\amanm\\anaconda3\\lib\\site-packages\\seaborn\\_decorators.py:36: FutureWarning: Pass the following variable as a keyword arg: x. From version 0.12, the only valid positional argument will be `data`, and passing other arguments without an explicit keyword will result in an error or misinterpretation.\n",
      "  warnings.warn(\n"
     ]
    },
    {
     "data": {
      "image/png": "[encoded data removed]",
      "text/plain": [
       "<Figure size 1152x360 with 2 Axes>"
      ]
     },
     "metadata": {
      "needs_background": "light"
     },
     "output_type": "display_data"
    }
   ],
   "source": [
    "boxHistPlot(data_copy[\"N_BATHROOM\"])"
   ]
  },
  {
   "cell_type": "code",
   "execution_count": 21,
   "id": "b3be4b8f",
   "metadata": {},
   "outputs": [],
   "source": [
    "n_bathroom_mean=data[\"N_BATHROOM\"].median()"
   ]
  },
  {
   "cell_type": "code",
   "execution_count": 22,
   "id": "75c32574",
   "metadata": {},
   "outputs": [
    {
     "data": {
      "text/plain": [
       "0"
      ]
     },
     "execution_count": 22,
     "metadata": {},
     "output_type": "execute_result"
    }
   ],
   "source": [
    "data_copy[\"N_BATHROOM\"].replace(np.nan, n_bathroom_mean,inplace=True)\n",
    "data_copy[\"N_BATHROOM\"].isnull().sum()"
   ]
  },
  {
   "cell_type": "code",
   "execution_count": null,
   "id": "bfbc48f6",
   "metadata": {},
   "outputs": [],
   "source": [
    " "
   ]
  },
  {
   "cell_type": "code",
   "execution_count": 23,
   "id": "8d1185ec",
   "metadata": {},
   "outputs": [
    {
     "data": {
      "text/plain": [
       "3.540    59\n",
       "3.260    57\n",
       "3.320    56\n",
       "3.560    55\n",
       "3.360    54\n",
       "         ..\n",
       "2.545     1\n",
       "2.110     1\n",
       "3.965     1\n",
       "4.345     1\n",
       "4.940     1\n",
       "Name: QS_OVERALL, Length: 479, dtype: int64"
      ]
     },
     "execution_count": 23,
     "metadata": {},
     "output_type": "execute_result"
    }
   ],
   "source": [
    "data[\"QS_OVERALL\"].value_counts()"
   ]
  },
  {
   "cell_type": "code",
   "execution_count": 24,
   "id": "3ef43bd8",
   "metadata": {},
   "outputs": [],
   "source": [
    "def boxHistPlot(data_copy, figsize=(16,5)):\n",
    "    plt.figure(figsize=figsize)\n",
    "    plt.subplot(121)\n",
    "    sns.boxplot(data_copy)\n",
    "    plt.subplot(122)\n",
    "    sns.histplot(data_copy)"
   ]
  },
  {
   "cell_type": "code",
   "execution_count": 25,
   "id": "98b7b77b",
   "metadata": {},
   "outputs": [
    {
     "name": "stderr",
     "output_type": "stream",
     "text": [
      "C:\\Users\\amanm\\anaconda3\\lib\\site-packages\\seaborn\\_decorators.py:36: FutureWarning: Pass the following variable as a keyword arg: x. From version 0.12, the only valid positional argument will be `data`, and passing other arguments without an explicit keyword will result in an error or misinterpretation.\n",
      "  warnings.warn(\n"
     ]
    },
    {
     "data": {
      "text/plain": [
       "<AxesSubplot:xlabel='QS_OVERALL', ylabel='count'>"
      ]
     },
     "execution_count": 25,
     "metadata": {},
     "output_type": "execute_result"
    },
    {
     "data": {
      "image/png": "[encoded data removed]",
      "text/plain": [
       "<Figure size 432x288 with 1 Axes>"
      ]
     },
     "metadata": {
      "needs_background": "light"
     },
     "output_type": "display_data"
    }
   ],
   "source": [
    "sns.countplot(data[\"QS_OVERALL\"])"
   ]
  },
  {
   "cell_type": "code",
   "execution_count": 26,
   "id": "69c30f19",
   "metadata": {},
   "outputs": [],
   "source": [
    "qs_overall_mean=data[\"QS_OVERALL\"].mean()"
   ]
  },
  {
   "cell_type": "code",
   "execution_count": 27,
   "id": "b917478c",
   "metadata": {},
   "outputs": [
    {
     "data": {
      "text/plain": [
       "0"
      ]
     },
     "execution_count": 27,
     "metadata": {},
     "output_type": "execute_result"
    }
   ],
   "source": [
    "data_copy[\"QS_OVERALL\"].replace(np.nan, qs_overall_mean,inplace=True)\n",
    "data_copy[\"QS_OVERALL\"].isnull().sum()"
   ]
  },
  {
   "cell_type": "code",
   "execution_count": null,
   "id": "68e99500",
   "metadata": {},
   "outputs": [],
   "source": []
  },
  {
   "cell_type": "markdown",
   "id": "8a601e4f",
   "metadata": {},
   "source": [
    "# Handling Spelling Errors"
   ]
  },
  {
   "cell_type": "code",
   "execution_count": 28,
   "id": "f29ad06d",
   "metadata": {},
   "outputs": [],
   "source": [
    "data_copy[\"AREA\"].replace([\"Chrompt\",\"Chrmpet\",\"Chormpet\",\"TNagar\",\"Karapakam\",\"Ana Nagar\",\"Adyr\",\"KKNagar\",\"Velchery\",\"Ann Nagar\"],[\"Chrompet\",\"Chrompet\",\"Chrompet\",\"T Nagar\",\"Karapakkam\",\"Anna Nagar\",\"Adyar\",\"KK Nagar\",\"Velachery\",\"Anna Nagar\"],inplace=True)"
   ]
  },
  {
   "cell_type": "code",
   "execution_count": 29,
   "id": "0f8ef7f9",
   "metadata": {},
   "outputs": [
    {
     "data": {
      "text/plain": [
       "Chrompet      1702\n",
       "Karapakkam    1366\n",
       "KK Nagar       997\n",
       "Velachery      981\n",
       "Anna Nagar     788\n",
       "Adyar          774\n",
       "T Nagar        501\n",
       "Name: AREA, dtype: int64"
      ]
     },
     "execution_count": 29,
     "metadata": {},
     "output_type": "execute_result"
    }
   ],
   "source": [
    "data_copy[\"AREA\"].value_counts()"
   ]
  },
  {
   "cell_type": "code",
   "execution_count": 30,
   "id": "872e1d0e",
   "metadata": {},
   "outputs": [],
   "source": [
    "dflist=[\"REG_FEE\",\"COMMIS\"]\n",
    "data_copy[\"ex_charges\"]=data_copy[dflist].sum(axis=1)"
   ]
  },
  {
   "cell_type": "code",
   "execution_count": 31,
   "id": "8beb6cfe",
   "metadata": {
    "scrolled": true
   },
   "outputs": [
    {
     "data": {
      "text/plain": [
       "AdjLand        1433\n",
       "Partial        1429\n",
       "Normal Sale    1423\n",
       "AbNormal       1406\n",
       "Family         1403\n",
       "Adj Land          6\n",
       "Ab Normal         5\n",
       "Partiall          3\n",
       "PartiaLl          1\n",
       "Name: SALE_COND, dtype: int64"
      ]
     },
     "execution_count": 31,
     "metadata": {},
     "output_type": "execute_result"
    }
   ],
   "source": [
    "data[\"SALE_COND\"].value_counts()"
   ]
  },
  {
   "cell_type": "code",
   "execution_count": 32,
   "id": "a8b63855",
   "metadata": {},
   "outputs": [],
   "source": [
    "data_copy[\"SALE_COND\"].replace([\"Adj Land\",\"Ab Normal\",\"Partiall\",\"PartiaLl\"],[\"AdjLand\",\"AbNormal\",\"Partial\",\"Partial\"],inplace=True)"
   ]
  },
  {
   "cell_type": "code",
   "execution_count": 33,
   "id": "a168cefc",
   "metadata": {},
   "outputs": [
    {
     "data": {
      "text/plain": [
       "AdjLand        1439\n",
       "Partial        1433\n",
       "Normal Sale    1423\n",
       "AbNormal       1411\n",
       "Family         1403\n",
       "Name: SALE_COND, dtype: int64"
      ]
     },
     "execution_count": 33,
     "metadata": {},
     "output_type": "execute_result"
    }
   ],
   "source": [
    "data_copy[\"SALE_COND\"].value_counts()"
   ]
  },
  {
   "cell_type": "code",
   "execution_count": 34,
   "id": "2f0fcb6e",
   "metadata": {},
   "outputs": [
    {
     "data": {
      "text/plain": [
       "Yes    3587\n",
       "No     3520\n",
       "Noo       2\n",
       "Name: PARK_FACIL, dtype: int64"
      ]
     },
     "execution_count": 34,
     "metadata": {},
     "output_type": "execute_result"
    }
   ],
   "source": [
    "data[\"PARK_FACIL\"].value_counts()"
   ]
  },
  {
   "cell_type": "code",
   "execution_count": 35,
   "id": "fcbc46f5",
   "metadata": {},
   "outputs": [],
   "source": [
    "data_copy[\"PARK_FACIL\"].replace([\"Noo\"],[\"No\"],inplace=True)"
   ]
  },
  {
   "cell_type": "code",
   "execution_count": 36,
   "id": "5f8ae2e0",
   "metadata": {},
   "outputs": [
    {
     "data": {
      "text/plain": [
       "Yes    3587\n",
       "No     3522\n",
       "Name: PARK_FACIL, dtype: int64"
      ]
     },
     "execution_count": 36,
     "metadata": {},
     "output_type": "execute_result"
    }
   ],
   "source": [
    "data_copy[\"PARK_FACIL\"].value_counts()"
   ]
  },
  {
   "cell_type": "code",
   "execution_count": 37,
   "id": "fa224545",
   "metadata": {},
   "outputs": [
    {
     "data": {
      "text/plain": [
       "House         2444\n",
       "Commercial    2325\n",
       "Others        2310\n",
       "Other           26\n",
       "Comercial        4\n",
       "Name: BUILDTYPE, dtype: int64"
      ]
     },
     "execution_count": 37,
     "metadata": {},
     "output_type": "execute_result"
    }
   ],
   "source": [
    "data[\"BUILDTYPE\"].value_counts()"
   ]
  },
  {
   "cell_type": "code",
   "execution_count": 38,
   "id": "1bbaba36",
   "metadata": {},
   "outputs": [],
   "source": [
    "data_copy[\"BUILDTYPE\"].replace([\"Other\",\"Comercial\"],[\"Others\",\"Commercial\"],inplace=True)"
   ]
  },
  {
   "cell_type": "code",
   "execution_count": 39,
   "id": "aec6364e",
   "metadata": {},
   "outputs": [
    {
     "data": {
      "text/plain": [
       "House         2444\n",
       "Others        2336\n",
       "Commercial    2329\n",
       "Name: BUILDTYPE, dtype: int64"
      ]
     },
     "execution_count": 39,
     "metadata": {},
     "output_type": "execute_result"
    }
   ],
   "source": [
    "data_copy[\"BUILDTYPE\"].value_counts()"
   ]
  },
  {
   "cell_type": "code",
   "execution_count": 40,
   "id": "9df94e03",
   "metadata": {},
   "outputs": [
    {
     "data": {
      "text/plain": [
       "AllPub     1886\n",
       "NoSeWa     1871\n",
       "NoSewr     1829\n",
       "ELO        1522\n",
       "All Pub       1\n",
       "Name: UTILITY_AVAIL, dtype: int64"
      ]
     },
     "execution_count": 40,
     "metadata": {},
     "output_type": "execute_result"
    }
   ],
   "source": [
    "data[\"UTILITY_AVAIL\"].value_counts()"
   ]
  },
  {
   "cell_type": "code",
   "execution_count": 41,
   "id": "669e4fa2",
   "metadata": {},
   "outputs": [],
   "source": [
    "data_copy[\"UTILITY_AVAIL\"].replace([\"All Pub\",\"NoSewr\"],[\"AllPub\",\"NoSeWa\"],inplace=True)"
   ]
  },
  {
   "cell_type": "code",
   "execution_count": 42,
   "id": "e78943a4",
   "metadata": {},
   "outputs": [
    {
     "data": {
      "text/plain": [
       "AllPub     1887\n",
       "NoSeWa     1871\n",
       "NoSewr     1829\n",
       "ELO        1522\n",
       "Name: UTILITY_AVAIL, dtype: int64"
      ]
     },
     "execution_count": 42,
     "metadata": {},
     "output_type": "execute_result"
    }
   ],
   "source": [
    "data_copy[\"UTILITY_AVAIL\"].value_counts()"
   ]
  },
  {
   "cell_type": "code",
   "execution_count": 43,
   "id": "a1978959",
   "metadata": {},
   "outputs": [
    {
     "data": {
      "text/plain": [
       "Paved        2560\n",
       "Gravel       2520\n",
       "No Access    2010\n",
       "Pavd           12\n",
       "NoAccess        7\n",
       "Name: STREET, dtype: int64"
      ]
     },
     "execution_count": 43,
     "metadata": {},
     "output_type": "execute_result"
    }
   ],
   "source": [
    "data[\"STREET\"].value_counts()"
   ]
  },
  {
   "cell_type": "code",
   "execution_count": 44,
   "id": "e899f7fa",
   "metadata": {},
   "outputs": [],
   "source": [
    "data_copy[\"STREET\"].replace([\"Pavd\",\"NoAccess\"],[\"Paved\",\"No Access\"],inplace=True)"
   ]
  },
  {
   "cell_type": "markdown",
   "id": "645a39a4",
   "metadata": {},
   "source": [
    "# Handling Categorical Data"
   ]
  },
  {
   "cell_type": "code",
   "execution_count": 45,
   "id": "9abd43b9",
   "metadata": {},
   "outputs": [],
   "source": [
    "data_copy[\"STREET\"]=data_copy[\"STREET\"].astype(CategoricalDtype(categories=[\"No Access\",\"Gravel\",\"Paved\"],ordered=True)).cat.codes"
   ]
  },
  {
   "cell_type": "code",
   "execution_count": 46,
   "id": "194b50db",
   "metadata": {},
   "outputs": [
    {
     "data": {
      "text/plain": [
       "2    2572\n",
       "1    2520\n",
       "0    2017\n",
       "Name: STREET, dtype: int64"
      ]
     },
     "execution_count": 46,
     "metadata": {},
     "output_type": "execute_result"
    }
   ],
   "source": [
    "data_copy[\"STREET\"].value_counts()"
   ]
  },
  {
   "cell_type": "code",
   "execution_count": 47,
   "id": "58844666",
   "metadata": {},
   "outputs": [],
   "source": [
    "data_copy[\"PARK_FACIL\"]=data_copy[\"PARK_FACIL\"].astype(CategoricalDtype(categories=[\"No\",\"Yes\"],ordered=True)).cat.codes"
   ]
  },
  {
   "cell_type": "code",
   "execution_count": 48,
   "id": "61660f44",
   "metadata": {},
   "outputs": [
    {
     "data": {
      "text/plain": [
       "1    3587\n",
       "0    3522\n",
       "Name: PARK_FACIL, dtype: int64"
      ]
     },
     "execution_count": 48,
     "metadata": {},
     "output_type": "execute_result"
    }
   ],
   "source": [
    "data_copy[\"PARK_FACIL\"].value_counts()"
   ]
  },
  {
   "cell_type": "code",
   "execution_count": 49,
   "id": "cbdd98b7",
   "metadata": {},
   "outputs": [],
   "source": [
    "data_copy[\"DATE_SALE\"]=pd.to_datetime(data_copy.DATE_SALE)\n",
    "data_copy[\"DATE_BUILD\"]=pd.to_datetime(data_copy.DATE_BUILD)"
   ]
  },
  {
   "cell_type": "code",
   "execution_count": 50,
   "id": "7a10d26e",
   "metadata": {},
   "outputs": [],
   "source": [
    "data_copy[\"saleTime\"]=data_copy[\"DATE_SALE\"] - data_copy[\"DATE_BUILD\"]\n",
    "data_copy[\"saleTime\"]=data_copy[\"saleTime\"]/np.timedelta64(1,\"Y\")"
   ]
  },
  {
   "cell_type": "code",
   "execution_count": 51,
   "id": "e3235545",
   "metadata": {},
   "outputs": [],
   "source": [
    "#drop"
   ]
  },
  {
   "cell_type": "code",
   "execution_count": 52,
   "id": "630471fe",
   "metadata": {},
   "outputs": [],
   "source": [
    "data_copy.drop(columns=[\"PRT_ID\",\"DATE_SALE\",\"DATE_BUILD\",\"QS_ROOMS\",\"QS_BATHROOM\",\"QS_BEDROOM\",\"QS_OVERALL\",\"REG_FEE\",\"COMMIS\"],inplace=True)"
   ]
  },
  {
   "cell_type": "markdown",
   "id": "7eebcfad",
   "metadata": {},
   "source": [
    "# OneHotEncoding"
   ]
  },
  {
   "cell_type": "code",
   "execution_count": 53,
   "id": "78ed3d85",
   "metadata": {
    "scrolled": true
   },
   "outputs": [
    {
     "data": {
      "text/html": [
       "<div>\n",
       "<style scoped>\n",
       "    .dataframe tbody tr th:only-of-type {\n",
       "        vertical-align: middle;\n",
       "    }\n",
       "\n",
       "    .dataframe tbody tr th {\n",
       "        vertical-align: top;\n",
       "    }\n",
       "\n",
       "    .dataframe thead th {\n",
       "        text-align: right;\n",
       "    }\n",
       "</style>\n",
       "<table border=\"1\" class=\"dataframe\">\n",
       "  <thead>\n",
       "    <tr style=\"text-align: right;\">\n",
       "      <th></th>\n",
       "      <th>AREA</th>\n",
       "      <th>INT_SQFT</th>\n",
       "      <th>DIST_MAINROAD</th>\n",
       "      <th>N_BEDROOM</th>\n",
       "      <th>N_BATHROOM</th>\n",
       "      <th>N_ROOM</th>\n",
       "      <th>SALE_COND</th>\n",
       "      <th>PARK_FACIL</th>\n",
       "      <th>BUILDTYPE</th>\n",
       "      <th>UTILITY_AVAIL</th>\n",
       "      <th>STREET</th>\n",
       "      <th>MZZONE</th>\n",
       "      <th>SALES_PRICE</th>\n",
       "      <th>ex_charges</th>\n",
       "      <th>saleTime</th>\n",
       "    </tr>\n",
       "  </thead>\n",
       "  <tbody>\n",
       "    <tr>\n",
       "      <th>0</th>\n",
       "      <td>Karapakkam</td>\n",
       "      <td>1004</td>\n",
       "      <td>131</td>\n",
       "      <td>1.0</td>\n",
       "      <td>1.0</td>\n",
       "      <td>3</td>\n",
       "      <td>AbNormal</td>\n",
       "      <td>1</td>\n",
       "      <td>Commercial</td>\n",
       "      <td>AllPub</td>\n",
       "      <td>2</td>\n",
       "      <td>A</td>\n",
       "      <td>7600000</td>\n",
       "      <td>524400</td>\n",
       "      <td>43.891387</td>\n",
       "    </tr>\n",
       "    <tr>\n",
       "      <th>1</th>\n",
       "      <td>Anna Nagar</td>\n",
       "      <td>1986</td>\n",
       "      <td>26</td>\n",
       "      <td>2.0</td>\n",
       "      <td>1.0</td>\n",
       "      <td>5</td>\n",
       "      <td>AbNormal</td>\n",
       "      <td>0</td>\n",
       "      <td>Commercial</td>\n",
       "      <td>AllPub</td>\n",
       "      <td>1</td>\n",
       "      <td>RH</td>\n",
       "      <td>21717770</td>\n",
       "      <td>1064171</td>\n",
       "      <td>10.992697</td>\n",
       "    </tr>\n",
       "    <tr>\n",
       "      <th>2</th>\n",
       "      <td>Adyar</td>\n",
       "      <td>909</td>\n",
       "      <td>70</td>\n",
       "      <td>1.0</td>\n",
       "      <td>1.0</td>\n",
       "      <td>3</td>\n",
       "      <td>AbNormal</td>\n",
       "      <td>1</td>\n",
       "      <td>Commercial</td>\n",
       "      <td>ELO</td>\n",
       "      <td>1</td>\n",
       "      <td>RL</td>\n",
       "      <td>13159200</td>\n",
       "      <td>513208</td>\n",
       "      <td>19.581511</td>\n",
       "    </tr>\n",
       "    <tr>\n",
       "      <th>3</th>\n",
       "      <td>Velachery</td>\n",
       "      <td>1855</td>\n",
       "      <td>14</td>\n",
       "      <td>3.0</td>\n",
       "      <td>2.0</td>\n",
       "      <td>5</td>\n",
       "      <td>Family</td>\n",
       "      <td>0</td>\n",
       "      <td>Others</td>\n",
       "      <td>NoSewr</td>\n",
       "      <td>2</td>\n",
       "      <td>I</td>\n",
       "      <td>9630290</td>\n",
       "      <td>433363</td>\n",
       "      <td>21.985393</td>\n",
       "    </tr>\n",
       "    <tr>\n",
       "      <th>4</th>\n",
       "      <td>Karapakkam</td>\n",
       "      <td>1226</td>\n",
       "      <td>84</td>\n",
       "      <td>1.0</td>\n",
       "      <td>1.0</td>\n",
       "      <td>3</td>\n",
       "      <td>AbNormal</td>\n",
       "      <td>1</td>\n",
       "      <td>Others</td>\n",
       "      <td>AllPub</td>\n",
       "      <td>1</td>\n",
       "      <td>C</td>\n",
       "      <td>7406250</td>\n",
       "      <td>311063</td>\n",
       "      <td>29.574871</td>\n",
       "    </tr>\n",
       "  </tbody>\n",
       "</table>\n",
       "</div>"
      ],
      "text/plain": [
       "         AREA  INT_SQFT  DIST_MAINROAD  N_BEDROOM  N_BATHROOM  N_ROOM  \\\n",
       "0  Karapakkam      1004            131        1.0         1.0       3   \n",
       "1  Anna Nagar      1986             26        2.0         1.0       5   \n",
       "2       Adyar       909             70        1.0         1.0       3   \n",
       "3   Velachery      1855             14        3.0         2.0       5   \n",
       "4  Karapakkam      1226             84        1.0         1.0       3   \n",
       "\n",
       "  SALE_COND  PARK_FACIL   BUILDTYPE UTILITY_AVAIL  STREET MZZONE  SALES_PRICE  \\\n",
       "0  AbNormal           1  Commercial        AllPub       2      A      7600000   \n",
       "1  AbNormal           0  Commercial        AllPub       1     RH     21717770   \n",
       "2  AbNormal           1  Commercial           ELO       1     RL     13159200   \n",
       "3    Family           0      Others       NoSewr        2      I      9630290   \n",
       "4  AbNormal           1      Others        AllPub       1      C      7406250   \n",
       "\n",
       "   ex_charges   saleTime  \n",
       "0      524400  43.891387  \n",
       "1     1064171  10.992697  \n",
       "2      513208  19.581511  \n",
       "3      433363  21.985393  \n",
       "4      311063  29.574871  "
      ]
     },
     "execution_count": 53,
     "metadata": {},
     "output_type": "execute_result"
    }
   ],
   "source": [
    "data_copy.head()"
   ]
  },
  {
   "cell_type": "code",
   "execution_count": 54,
   "id": "f68dec38",
   "metadata": {},
   "outputs": [
    {
     "data": {
      "text/plain": [
       "['AREA', 'SALE_COND', 'BUILDTYPE', 'UTILITY_AVAIL', 'MZZONE']"
      ]
     },
     "execution_count": 54,
     "metadata": {},
     "output_type": "execute_result"
    }
   ],
   "source": [
    "\n",
    "object_features=data_copy.select_dtypes(include=\"object\").columns.tolist()\n",
    "object_features\n"
   ]
  },
  {
   "cell_type": "code",
   "execution_count": 55,
   "id": "628cc00a",
   "metadata": {},
   "outputs": [],
   "source": [
    "data_copy=pd.get_dummies(data_copy,columns=object_features,prefix=object_features,drop_first=True)"
   ]
  },
  {
   "cell_type": "code",
   "execution_count": 56,
   "id": "12337763",
   "metadata": {},
   "outputs": [
    {
     "data": {
      "text/plain": [
       "(7109, 30)"
      ]
     },
     "execution_count": 56,
     "metadata": {},
     "output_type": "execute_result"
    }
   ],
   "source": [
    "data_copy.shape"
   ]
  },
  {
   "cell_type": "markdown",
   "id": "519f93dd",
   "metadata": {},
   "source": [
    "# Train and test"
   ]
  },
  {
   "cell_type": "code",
   "execution_count": null,
   "id": "4388d6ca",
   "metadata": {},
   "outputs": [],
   "source": []
  },
  {
   "cell_type": "code",
   "execution_count": 57,
   "id": "20640655",
   "metadata": {},
   "outputs": [],
   "source": [
    "data_copy = data_copy[np.isfinite(data_copy).all(1)]"
   ]
  },
  {
   "cell_type": "code",
   "execution_count": 58,
   "id": "96972c30",
   "metadata": {},
   "outputs": [
    {
     "name": "stdout",
     "output_type": "stream",
     "text": [
      "(6950, 29) (6950,) (159, 29)\n"
     ]
    }
   ],
   "source": [
    "X_train=data_copy[:6950].drop(\"SALES_PRICE\", axis=1)\n",
    "y_train=data_copy[\"SALES_PRICE\"][:6950]\n",
    "X_test=data_copy[6950:].drop(\"SALES_PRICE\", axis=1)\n",
    "print(X_train.shape,y_train.shape,X_test.shape)"
   ]
  },
  {
   "cell_type": "code",
   "execution_count": 59,
   "id": "717cf5ed",
   "metadata": {},
   "outputs": [],
   "source": [
    "from sklearn.model_selection import train_test_split\n",
    "from sklearn.preprocessing import StandardScaler\n",
    "from sklearn.compose import make_column_transformer\n"
   ]
  },
  {
   "cell_type": "markdown",
   "id": "7ee7df24",
   "metadata": {},
   "source": [
    "# Feature Scaling"
   ]
  },
  {
   "cell_type": "code",
   "execution_count": 60,
   "id": "fa2c047c",
   "metadata": {},
   "outputs": [],
   "source": [
    "sc=StandardScaler()\n",
    "sc.fit(X_train)\n",
    "X_train=sc.transform(X_train)\n",
    "X_test=sc.transform(X_test)"
   ]
  },
  {
   "cell_type": "code",
   "execution_count": null,
   "id": "2d6b251a",
   "metadata": {},
   "outputs": [],
   "source": []
  },
  {
   "cell_type": "markdown",
   "id": "ec9d7670",
   "metadata": {},
   "source": [
    "# Model Selection"
   ]
  },
  {
   "cell_type": "code",
   "execution_count": 61,
   "id": "71cb8368",
   "metadata": {},
   "outputs": [],
   "source": [
    "from sklearn.svm import SVR\n",
    "from sklearn.linear_model import LinearRegression,Lasso,Ridge\n",
    "from sklearn.tree import DecisionTreeRegressor\n",
    "from sklearn.ensemble import RandomForestRegressor\n",
    "from sklearn.neighbors import KNeighborsRegressor"
   ]
  },
  {
   "cell_type": "code",
   "execution_count": 62,
   "id": "5500a124",
   "metadata": {},
   "outputs": [],
   "source": [
    "svr=SVR()\n",
    "lr=LinearRegression()\n",
    "dtr=DecisionTreeRegressor()\n",
    "rfr=RandomForestRegressor()\n",
    "knr=KNeighborsRegressor()"
   ]
  },
  {
   "cell_type": "code",
   "execution_count": 63,
   "id": "2d0667c7",
   "metadata": {},
   "outputs": [],
   "source": [
    "models={\"a\":[\"LinearRegression\",lr],\n",
    "        \"b\":[\"SVR\",svr],\n",
    "        \"c\":[\"DecisionTreeRegressor\",dtr],\n",
    "       \"d\":[\"RandomForestRegressor\",rfr],\n",
    "       \"e\":[\"KNeighborsRegressor\",knr]}"
   ]
  },
  {
   "cell_type": "code",
   "execution_count": 64,
   "id": "a5fed564",
   "metadata": {},
   "outputs": [],
   "source": [
    "from sklearn.model_selection import KFold, cross_val_score\n",
    "from sklearn.metrics import make_scorer, r2_score\n",
    "\n",
    "def test_model(model, X_train=X_train, y_train=y_train):\n",
    "    cv=KFold(n_splits=7,shuffle=True, random_state=50)\n",
    "    r2=make_scorer(r2_score)\n",
    "    r2_val_score= cross_val_score(model, X_train, y_train, cv=cv, scoring=r2)\n",
    "    score =[r2_val_score.mean()]\n",
    "    return score"
   ]
  },
  {
   "cell_type": "code",
   "execution_count": 65,
   "id": "441a8e56",
   "metadata": {},
   "outputs": [
    {
     "name": "stdout",
     "output_type": "stream",
     "text": [
      "model:  LinearRegression\n",
      "Score:  [0.957950934017721]\n",
      "model:  SVR\n",
      "Score:  [-0.02366401111120897]\n",
      "model:  DecisionTreeRegressor\n",
      "Score:  [0.933040774718578]\n",
      "model:  RandomForestRegressor\n",
      "Score:  [0.9661991276554608]\n",
      "model:  KNeighborsRegressor\n",
      "Score:  [0.8584856820927682]\n"
     ]
    }
   ],
   "source": [
    "models_score=[]\n",
    "for model in models:\n",
    "    print(\"model: \", models[model][0])\n",
    "    score=test_model(models[model][1],X_train, y_train)\n",
    "    print(\"Score: \",score)\n",
    "    models_score.append([models[model][0],score[0]])"
   ]
  },
  {
   "cell_type": "code",
   "execution_count": null,
   "id": "a615c06d",
   "metadata": {},
   "outputs": [],
   "source": []
  },
  {
   "cell_type": "code",
   "execution_count": null,
   "id": "8aa5108c",
   "metadata": {},
   "outputs": [],
   "source": []
  }
 ],
 "metadata": {
  "kernelspec": {
   "display_name": "Python 3 (ipykernel)",
   "language": "python",
   "name": "python3"
  },
  "language_info": {
   "codemirror_mode": {
    "name": "ipython",
    "version": 3
   },
   "file_extension": ".py",
   "mimetype": "text/x-python",
   "name": "python",
   "nbconvert_exporter": "python",
   "pygments_lexer": "ipython3",
   "version": "3.9.7"
  }
 },
 "nbformat": 4,
 "nbformat_minor": 5
}
